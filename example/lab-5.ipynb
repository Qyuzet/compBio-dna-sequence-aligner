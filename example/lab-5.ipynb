{
 "cells": [
  {
   "cell_type": "markdown",
   "id": "734339f4-85c3-4699-a3f8-a5de9653b5a2",
   "metadata": {},
   "source": [
    "# Pairwise Alignment"
   ]
  },
  {
   "cell_type": "markdown",
   "id": "863da8e1-ce71-43a9-9b4b-a1fe2e3b1493",
   "metadata": {},
   "source": [
    "### 1. Global Alignment: Needleman-Wunsch Algorithm"
   ]
  },
  {
   "cell_type": "code",
   "execution_count": 4,
   "id": "c4080ea2-3f00-4208-aeda-ced14bce900e",
   "metadata": {},
   "outputs": [],
   "source": [
    "def score_pos (c1, c2, sm, g):\n",
    "    if c1 == \"−\" or c2==\"−\":\n",
    "        return g\n",
    "    else:\n",
    "        return sm[c1+c2]\n",
    "\n",
    "def Needleman_Wunsch (seq1, seq2, sm, g):\n",
    "    S = [[0]]\n",
    "    T = [[0]]\n",
    "    ## initialize gaps’ row\n",
    "    for j in range(1, len(seq2)+1):\n",
    "        S[0].append(g * j)\n",
    "        T[0].append(3)\n",
    "    ## initialize gaps’ column\n",
    "    for i in range(1, len(seq1)+1):\n",
    "        S.append([g * i])\n",
    "        T.append([2])\n",
    "    ## apply the recurrence relation to fill the remaining of the matrix\n",
    "    for i in range(0, len(seq1)):\n",
    "        for j in range(len(seq2)):\n",
    "            s1 = S[i][j] + score_pos (seq1[i], seq2[j], sm, g);\n",
    "            s2 = S[i][j+1] + g\n",
    "            s3 = S[i+1][j] + g\n",
    "            S[i+1].append(max(s1, s2, s3))\n",
    "            T[i+1].append(max3t(s1, s2, s3))\n",
    "    return (S, T)\n",
    "    \n",
    "def max3t (v1, v2, v3):\n",
    "    if v1 > v2:\n",
    "        if v1 > v3: \n",
    "            return 1\n",
    "        else: \n",
    "            return 3\n",
    "    else:\n",
    "        if v2 > v3: \n",
    "            return 2\n",
    "        else: \n",
    "            return 3"
   ]
  },
  {
   "cell_type": "code",
   "execution_count": 5,
   "id": "25244e13-c825-43b1-b58a-6e70bf54ade5",
   "metadata": {},
   "outputs": [],
   "source": [
    "def recover_align (T, seq1, seq2):\n",
    "    res = [\"\", \"\"]\n",
    "    i = len(seq1)\n",
    "    j = len(seq2)\n",
    "    while i>0 or j>0:\n",
    "        if T[i][j]==1:\n",
    "            res[0] = seq1[i-1] + res[0]\n",
    "            res[1] = seq2[j-1] + res[1]\n",
    "            i -= 1\n",
    "            j -= 1\n",
    "        elif T[i][j] == 3:\n",
    "            res [0] = \"−\" + res [0]\n",
    "            res[1] = seq2[j-1] + res[1]\n",
    "            j -= 1\n",
    "        else:\n",
    "            res[0] = seq1[i-1] + res[0]\n",
    "            res [1] = \"−\" + res [1]\n",
    "            i -= 1 \n",
    "    return res"
   ]
  },
  {
   "cell_type": "code",
   "execution_count": 6,
   "id": "4503fd80-1dc1-4a23-a7c1-afab26049030",
   "metadata": {},
   "outputs": [
    {
     "name": "stdout",
     "output_type": "stream",
     "text": [
      "['A', 'R', 'N', 'D', 'C', 'Q', 'E', 'G', 'H', 'I', 'L', 'K', 'M', 'F', 'P', 'S', 'T', 'W', 'Y', 'V', 'B', 'Z', 'X', '*']\n",
      "{'AA': 4, 'AR': -1, 'AN': -2, 'AD': -2, 'AC': 0, 'AQ': -1, 'AE': -1, 'AG': 0, 'AH': -2, 'AI': -1, 'AL': -1, 'AK': -1, 'AM': -1, 'AF': -2, 'AP': -1, 'AS': 1, 'AT': 0, 'AW': -3, 'AY': -2, 'AV': 0, 'AB': -2, 'AZ': -1, 'AX': 0, 'A*': -4, 'RA': -1, 'RR': 5, 'RN': 0, 'RD': -2, 'RC': -3, 'RQ': 1, 'RE': 0, 'RG': -2, 'RH': 0, 'RI': -3, 'RL': -2, 'RK': 2, 'RM': -1, 'RF': -3, 'RP': -2, 'RS': -1, 'RT': -1, 'RW': -3, 'RY': -2, 'RV': -3, 'RB': -1, 'RZ': 0, 'RX': -1, 'R*': -4, 'NA': -2, 'NR': 0, 'NN': 6, 'ND': 1, 'NC': -3, 'NQ': 0, 'NE': 0, 'NG': 0, 'NH': 1, 'NI': -3, 'NL': -3, 'NK': 0, 'NM': -2, 'NF': -3, 'NP': -2, 'NS': 1, 'NT': 0, 'NW': -4, 'NY': -2, 'NV': -3, 'NB': 3, 'NZ': 0, 'NX': -1, 'N*': -4, 'DA': -2, 'DR': -2, 'DN': 1, 'DD': 6, 'DC': -3, 'DQ': 0, 'DE': 2, 'DG': -1, 'DH': -1, 'DI': -3, 'DL': -4, 'DK': -1, 'DM': -3, 'DF': -3, 'DP': -1, 'DS': 0, 'DT': -1, 'DW': -4, 'DY': -3, 'DV': -3, 'DB': 4, 'DZ': 1, 'DX': -1, 'D*': -4, 'CA': 0, 'CR': -3, 'CN': -3, 'CD': -3, 'CC': 9, 'CQ': -3, 'CE': -4, 'CG': -3, 'CH': -3, 'CI': -1, 'CL': -1, 'CK': -3, 'CM': -1, 'CF': -2, 'CP': -3, 'CS': -1, 'CT': -1, 'CW': -2, 'CY': -2, 'CV': -1, 'CB': -3, 'CZ': -3, 'CX': -2, 'C*': -4, 'QA': -1, 'QR': 1, 'QN': 0, 'QD': 0, 'QC': -3, 'QQ': 5, 'QE': 2, 'QG': -2, 'QH': 0, 'QI': -3, 'QL': -2, 'QK': 1, 'QM': -1, 'QF': -3, 'QP': -1, 'QS': 0, 'QT': -1, 'QW': -2, 'QY': -1, 'QV': -2, 'QB': 0, 'QZ': 3, 'QX': -1, 'Q*': -4, 'EA': -1, 'ER': 0, 'EN': 0, 'ED': 2, 'EC': -4, 'EQ': 2, 'EE': 5, 'EG': -2, 'EH': 0, 'EI': -3, 'EL': -3, 'EK': 1, 'EM': -2, 'EF': -3, 'EP': -1, 'ES': 0, 'ET': -1, 'EW': -3, 'EY': -2, 'EV': -2, 'EB': 1, 'EZ': 4, 'EX': -1, 'E*': -4, 'GA': 0, 'GR': -2, 'GN': 0, 'GD': -1, 'GC': -3, 'GQ': -2, 'GE': -2, 'GG': 6, 'GH': -2, 'GI': -4, 'GL': -4, 'GK': -2, 'GM': -3, 'GF': -3, 'GP': -2, 'GS': 0, 'GT': -2, 'GW': -2, 'GY': -3, 'GV': -3, 'GB': -1, 'GZ': -2, 'GX': -1, 'G*': -4, 'HA': -2, 'HR': 0, 'HN': 1, 'HD': -1, 'HC': -3, 'HQ': 0, 'HE': 0, 'HG': -2, 'HH': 8, 'HI': -3, 'HL': -3, 'HK': -1, 'HM': -2, 'HF': -1, 'HP': -2, 'HS': -1, 'HT': -2, 'HW': -2, 'HY': 2, 'HV': -3, 'HB': 0, 'HZ': 0, 'HX': -1, 'H*': -4, 'IA': -1, 'IR': -3, 'IN': -3, 'ID': -3, 'IC': -1, 'IQ': -3, 'IE': -3, 'IG': -4, 'IH': -3, 'II': 4, 'IL': 2, 'IK': -3, 'IM': 1, 'IF': 0, 'IP': -3, 'IS': -2, 'IT': -1, 'IW': -3, 'IY': -1, 'IV': 3, 'IB': -3, 'IZ': -3, 'IX': -1, 'I*': -4, 'LA': -1, 'LR': -2, 'LN': -3, 'LD': -4, 'LC': -1, 'LQ': -2, 'LE': -3, 'LG': -4, 'LH': -3, 'LI': 2, 'LL': 4, 'LK': -2, 'LM': 2, 'LF': 0, 'LP': -3, 'LS': -2, 'LT': -1, 'LW': -2, 'LY': -1, 'LV': 1, 'LB': -3, 'LZ': -2, 'LX': -1, 'L*': -4, 'KA': -1, 'KR': 2, 'KN': 0, 'KD': -1, 'KC': -3, 'KQ': 1, 'KE': 1, 'KG': -2, 'KH': -1, 'KI': -3, 'KL': -2, 'KK': 5, 'KM': -1, 'KF': -3, 'KP': -1, 'KS': 0, 'KT': -1, 'KW': -3, 'KY': -2, 'KV': -2, 'KB': 0, 'KZ': 1, 'KX': -1, 'K*': -4, 'MA': -1, 'MR': -1, 'MN': -2, 'MD': -3, 'MC': -1, 'MQ': -1, 'ME': -2, 'MG': -3, 'MH': -2, 'MI': 1, 'ML': 2, 'MK': -1, 'MM': 5, 'MF': 0, 'MP': -2, 'MS': -1, 'MT': -1, 'MW': -1, 'MY': -1, 'MV': 1, 'MB': -2, 'MZ': -1, 'MX': -1, 'M*': -4, 'FA': -2, 'FR': -3, 'FN': -3, 'FD': -3, 'FC': -2, 'FQ': -3, 'FE': -3, 'FG': -3, 'FH': -1, 'FI': 0, 'FL': 0, 'FK': -3, 'FM': 0, 'FF': 6, 'FP': -4, 'FS': -2, 'FT': -2, 'FW': 1, 'FY': 3, 'FV': -1, 'FB': -3, 'FZ': -3, 'FX': -1, 'F*': -4, 'PA': -1, 'PR': -2, 'PN': -2, 'PD': -1, 'PC': -3, 'PQ': -1, 'PE': -1, 'PG': -2, 'PH': -2, 'PI': -3, 'PL': -3, 'PK': -1, 'PM': -2, 'PF': -4, 'PP': 7, 'PS': -1, 'PT': -1, 'PW': -4, 'PY': -3, 'PV': -2, 'PB': -2, 'PZ': -1, 'PX': -2, 'P*': -4, 'SA': 1, 'SR': -1, 'SN': 1, 'SD': 0, 'SC': -1, 'SQ': 0, 'SE': 0, 'SG': 0, 'SH': -1, 'SI': -2, 'SL': -2, 'SK': 0, 'SM': -1, 'SF': -2, 'SP': -1, 'SS': 4, 'ST': 1, 'SW': -3, 'SY': -2, 'SV': -2, 'SB': 0, 'SZ': 0, 'SX': 0, 'S*': -4, 'TA': 0, 'TR': -1, 'TN': 0, 'TD': -1, 'TC': -1, 'TQ': -1, 'TE': -1, 'TG': -2, 'TH': -2, 'TI': -1, 'TL': -1, 'TK': -1, 'TM': -1, 'TF': -2, 'TP': -1, 'TS': 1, 'TT': 5, 'TW': -2, 'TY': -2, 'TV': 0, 'TB': -1, 'TZ': -1, 'TX': 0, 'T*': -4, 'WA': -3, 'WR': -3, 'WN': -4, 'WD': -4, 'WC': -2, 'WQ': -2, 'WE': -3, 'WG': -2, 'WH': -2, 'WI': -3, 'WL': -2, 'WK': -3, 'WM': -1, 'WF': 1, 'WP': -4, 'WS': -3, 'WT': -2, 'WW': 11, 'WY': 2, 'WV': -3, 'WB': -4, 'WZ': -3, 'WX': -2, 'W*': -4, 'YA': -2, 'YR': -2, 'YN': -2, 'YD': -3, 'YC': -2, 'YQ': -1, 'YE': -2, 'YG': -3, 'YH': 2, 'YI': -1, 'YL': -1, 'YK': -2, 'YM': -1, 'YF': 3, 'YP': -3, 'YS': -2, 'YT': -2, 'YW': 2, 'YY': 7, 'YV': -1, 'YB': -3, 'YZ': -2, 'YX': -1, 'Y*': -4, 'VA': 0, 'VR': -3, 'VN': -3, 'VD': -3, 'VC': -1, 'VQ': -2, 'VE': -2, 'VG': -3, 'VH': -3, 'VI': 3, 'VL': 1, 'VK': -2, 'VM': 1, 'VF': -1, 'VP': -2, 'VS': -2, 'VT': 0, 'VW': -3, 'VY': -1, 'VV': 4, 'VB': -3, 'VZ': -2, 'VX': -1, 'V*': -4, 'BA': -2, 'BR': -1, 'BN': 3, 'BD': 4, 'BC': -3, 'BQ': 0, 'BE': 1, 'BG': -1, 'BH': 0, 'BI': -3, 'BL': -3, 'BK': 0, 'BM': -2, 'BF': -3, 'BP': -2, 'BS': 0, 'BT': -1, 'BW': -4, 'BY': -3, 'BV': -3, 'BB': 4, 'BZ': 1, 'BX': -1, 'B*': -4, 'ZA': -1, 'ZR': 0, 'ZN': 0, 'ZD': 1, 'ZC': -3, 'ZQ': 3, 'ZE': 4, 'ZG': -2, 'ZH': 0, 'ZI': -3, 'ZL': -2, 'ZK': 1, 'ZM': -1, 'ZF': -3, 'ZP': -1, 'ZS': 0, 'ZT': -1, 'ZW': -3, 'ZY': -2, 'ZV': -2, 'ZB': 1, 'ZZ': 4, 'ZX': -1, 'Z*': -4, 'XA': 0, 'XR': -1, 'XN': -1, 'XD': -1, 'XC': -2, 'XQ': -1, 'XE': -1, 'XG': -1, 'XH': -1, 'XI': -1, 'XL': -1, 'XK': -1, 'XM': -1, 'XF': -1, 'XP': -2, 'XS': 0, 'XT': 0, 'XW': -2, 'XY': -1, 'XV': -1, 'XB': -1, 'XZ': -1, 'XX': -1, 'X*': -4, '*A': -4, '*R': -4, '*N': -4, '*D': -4, '*C': -4, '*Q': -4, '*E': -4, '*G': -4, '*H': -4, '*I': -4, '*L': -4, '*K': -4, '*M': -4, '*F': -4, '*P': -4, '*S': -4, '*T': -4, '*W': -4, '*Y': -4, '*V': -4, '*B': -4, '*Z': -4, '*X': -4, '**': 1}\n"
     ]
    }
   ],
   "source": [
    "def read_submat_file (filename): \n",
    "    sm = {}\n",
    "    f = open(filename , \"r\") \n",
    "    line = f.readline() # ignore the first line\n",
    "    line = f.readline() # the second line is the alphabet\n",
    "    tokens = line.split() \n",
    "    ns = len(tokens)\n",
    "    alphabet = []\n",
    "    \n",
    "    for i in range(0, ns):\n",
    "        alphabet.append(tokens[i][0]) \n",
    "\n",
    "    print(alphabet)\n",
    "        \n",
    "    for i in range(0,ns):\n",
    "        line = f.readline();\n",
    "        tokens = line.split();\n",
    "        for j in range(1, len(tokens)):\n",
    "            k = alphabet[i]+alphabet[j-1]\n",
    "            sm[k] = int(tokens[j]) \n",
    "    return sm\n",
    "\n",
    "def test_prot():\n",
    "    sm = read_submat_file(\"blosum62.mat\") \n",
    "    print(sm)\n",
    "    \n",
    "test_prot()"
   ]
  },
  {
   "cell_type": "code",
   "execution_count": 7,
   "id": "5284e91e-e62b-4e51-8666-8869c34fbbdd",
   "metadata": {},
   "outputs": [
    {
     "name": "stdout",
     "output_type": "stream",
     "text": [
      "['A', 'R', 'N', 'D', 'C', 'Q', 'E', 'G', 'H', 'I', 'L', 'K', 'M', 'F', 'P', 'S', 'T', 'W', 'Y', 'V', 'B', 'Z', 'X', '*']\n",
      "Score of optimal alignment: 9\n",
      "Matrix S:\n",
      "[0, -8, -16, -24, -32, -40]\n",
      "[-8, -2, -10, -18, -25, -33]\n",
      "[-16, 0, -4, -12, -20, -27]\n",
      "[-24, -8, 0, -7, -11, -19]\n",
      "[-32, -16, -8, 11, 3, -5]\n",
      "[-40, -24, -10, 3, 11, 9]\n",
      "Matrix T:\n",
      "[0, 3, 3, 3, 3, 3]\n",
      "[2, 1, 3, 3, 1, 3]\n",
      "[2, 1, 1, 3, 3, 1]\n",
      "[2, 2, 1, 1, 1, 3]\n",
      "[2, 2, 2, 1, 3, 3]\n",
      "[2, 2, 1, 2, 1, 1]\n",
      "PHSW−G\n",
      "−HGWAG\n"
     ]
    }
   ],
   "source": [
    "def print_mat (mat):\n",
    "    for i in range(0, len(mat)):\n",
    "        print(mat[i])\n",
    "    \n",
    "def test_global_alig():\n",
    "    sm = read_submat_file(\"blosum62.mat\") \n",
    "    seq1 = \"PHSWG\"\n",
    "    seq2 = \"HGWAG\"\n",
    "    res = Needleman_Wunsch(seq1, seq2, sm, -8)\n",
    "    S = res [0]\n",
    "    T = res [1]\n",
    "    print(\"Score of optimal alignment:\", S[len(seq1)][len(seq2)]) \n",
    "    print('Matrix S:')\n",
    "    print_mat(S)\n",
    "    print('Matrix T:')\n",
    "    print_mat(T)\n",
    "    alig = recover_align(T, seq1, seq2)\n",
    "    print(alig[0]) \n",
    "    print(alig[1])\n",
    "\n",
    "test_global_alig()"
   ]
  },
  {
   "cell_type": "markdown",
   "id": "9e63f781-c797-47ff-994d-79b5548fda9c",
   "metadata": {},
   "source": [
    "### 2. Local Alignment: The Smith-Waterman Algorithm"
   ]
  },
  {
   "cell_type": "code",
   "execution_count": null,
   "id": "3e0090ad-94a5-4210-b4bb-3f459b57a282",
   "metadata": {},
   "outputs": [],
   "source": [
    "def Smith_Waterman (seq1, seq2, sm, g): \n",
    "    S = [[0]]\n",
    "    T = [[0]]\n",
    "    maxscore = 0\n",
    "    for j in range(1, len(seq2)+1):\n",
    "        S[0].append(0)\n",
    "        T[0].append(0)\n",
    "    for i in range(1, len(seq1)+1):\n",
    "        S.append([0])\n",
    "        T.append([0])\n",
    "    for i in range(0, len(seq1)):\n",
    "        for j in range(len(seq2)):\n",
    "            s1 = S[i][j] + score_pos (seq1[i], seq2[j], sm, g); \n",
    "            s2 = S[i][j+1] + g\n",
    "            s3 = S[i+1][j] + g\n",
    "            b = max(s1, s2, s3)\n",
    "            if b <= 0: \n",
    "                S[i+1].append(0) \n",
    "                T[i+1].append(0)\n",
    "            else:\n",
    "                S[i+1].append(b) \n",
    "                T[i+1].append(max3t(s1, s2, s3))\n",
    "                if b > maxscore: \n",
    "                    maxscore = b\n",
    "    return (S, T, maxscore)"
   ]
  },
  {
   "cell_type": "code",
   "execution_count": null,
   "id": "41914f7a-8fb0-4986-b29f-4b538cfc43e3",
   "metadata": {},
   "outputs": [],
   "source": [
    "def recover_align_local (S, T, seq1, seq2): \n",
    "    res = [\"\", \"\"]\n",
    "    i, j = max_mat(S) \n",
    "    while T[i][j]>0:\n",
    "        if T[i][j]==1:\n",
    "            res[0] = seq1[i-1] + res[0] \n",
    "            res[1] = seq2[j-1] + res[1]\n",
    "            i -= 1\n",
    "            j -= 1\n",
    "        elif T[i][j] == 3:\n",
    "            res [0] = \"−\" + res [0];\n",
    "            res[1] = seq2[j-1] + res[1]\n",
    "            j -= 1\n",
    "        elif T[i][j] == 2:\n",
    "            res[0] = seq1[i-1] + res[0]\n",
    "            res [1] = \"−\" + res [1]\n",
    "            i -= 1\n",
    "    return res\n",
    "\n",
    "def max_mat(mat):\n",
    "    maxval = mat [0][0]\n",
    "    maxrow = 0\n",
    "    maxcol = 0\n",
    "    for i in range(0,len(mat)):\n",
    "        for j in range(0, len(mat[i])):\n",
    "            if mat[i][j] > maxval:\n",
    "                maxval = mat[i][j]\n",
    "                maxrow = i\n",
    "                maxcol = j\n",
    "    return (maxrow,maxcol)"
   ]
  },
  {
   "cell_type": "code",
   "execution_count": null,
   "id": "2a0a027f-1c86-4903-a98b-5845cec503ad",
   "metadata": {},
   "outputs": [],
   "source": [
    "def test_local_alig():\n",
    "    sm = read_submat_file(\"blosum62.mat\")\n",
    "    seq1 = \"HGWAG\"\n",
    "    seq2 = \"PHSWG\"\n",
    "    res = Smith_Waterman(seq1, seq2, sm, -8)\n",
    "    S = res [0]\n",
    "    T = res [1]\n",
    "    print(\"Score of optimal alignment:\", res[2])\n",
    "    print_mat(S)\n",
    "    print_mat(T)\n",
    "    alinL= recover_align_local(S, T, seq1, seq2)\n",
    "    print(alinL[0])\n",
    "    print(alinL[1]) \n",
    "    \n",
    "test_local_alig()"
   ]
  },
  {
   "cell_type": "markdown",
   "id": "86931264-c27f-4019-bc3a-314ca5b79eb6",
   "metadata": {},
   "source": [
    "# Multiple Sequence Alignment"
   ]
  },
  {
   "cell_type": "code",
   "execution_count": 3,
   "id": "3afb89db-a743-45cb-9bb2-8b92a8ac3808",
   "metadata": {},
   "outputs": [
    {
     "name": "stdout",
     "output_type": "stream",
     "text": [
      "Alignment with 3 rows and 30 columns\n",
      "MHQAIFIYQIGYPLKSGYIQSIRSPEYDNW seq1\n",
      "MH--IFIYQIGYALKSGYIQSIRSPEY-NW seq2\n",
      "MHQAIFI-QIGYALKSGY-QSIRSPEYDNW seq3\n"
     ]
    }
   ],
   "source": [
    "from Bio.SeqRecord import SeqRecord\n",
    "from Bio.Align import MultipleSeqAlignment\n",
    "from Bio.Seq import Seq\n",
    "\n",
    "seq1 = Seq(\"MHQAIFIYQIGYPLKSGYIQSIRSPEYDNW\")\n",
    "seq2 = Seq(\"MH--IFIYQIGYALKSGYIQSIRSPEY-NW\")\n",
    "seq3 = Seq(\"MHQAIFI-QIGYALKSGY-QSIRSPEYDNW\")\n",
    "\n",
    "seqr1 = SeqRecord(seq1, id=\"seq1\", annotations={\"molecule_type\": \"protein\"})\n",
    "seqr2 = SeqRecord(seq2, id=\"seq2\", annotations={\"molecule_type\": \"protein\"})\n",
    "seqr3 = SeqRecord(seq3, id=\"seq3\", annotations={\"molecule_type\": \"protein\"})\n",
    "\n",
    "alin = MultipleSeqAlignment([seqr1, seqr2, seqr3])\n",
    "print(alin)"
   ]
  },
  {
   "cell_type": "code",
   "execution_count": null,
   "id": "ca095884-28eb-4bb0-97c9-1edffb20bbb0",
   "metadata": {},
   "outputs": [],
   "source": []
  }
 ],
 "metadata": {
  "kernelspec": {
   "display_name": "Python 3 (ipykernel)",
   "language": "python",
   "name": "python3"
  },
  "language_info": {
   "codemirror_mode": {
    "name": "ipython",
    "version": 3
   },
   "file_extension": ".py",
   "mimetype": "text/x-python",
   "name": "python",
   "nbconvert_exporter": "python",
   "pygments_lexer": "ipython3",
   "version": "3.13.2"
  }
 },
 "nbformat": 4,
 "nbformat_minor": 5
}
